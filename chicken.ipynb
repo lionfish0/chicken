{
 "cells": [
  {
   "cell_type": "code",
   "execution_count": 2,
   "metadata": {},
   "outputs": [],
   "source": [
    "import numpy as np\n",
    "import GPy\n",
    "import matplotlib.pyplot as plt\n",
    "import json, requests\n",
    "import pandas\n",
    "from time import sleep\n",
    "import pickle\n",
    "\n",
    "%matplotlib inline\n",
    "\n",
    "def getdata(deviceId):\n",
    "    \"\"\"Get data from server for particular device\"\"\"\n",
    "    source = 'http://hello-linkerd-admin.eagleowl.online/query?db=example&q='\n",
    "    #query = \"SELECT \\\"value\\\" FROM example..sensor_data WHERE deviceId='%s' AND type='/temperature' AND time>now() - 60s\" % deviceId\n",
    "    query = \"SELECT \\\"value\\\" FROM example..sensor_data WHERE deviceId='%s' AND type='/temperature' AND time>0\" % deviceId\n",
    "    url = source + query\n",
    "    \n",
    "    r = requests.get(url)\n",
    "    j = r.json()\n",
    "    dataout = j['results'][0]['series'][0]['values']\n",
    "    return dataout\n"
   ]
  },
  {
   "cell_type": "markdown",
   "metadata": {},
   "source": [
    "# Chicken coop temperature analysis\n",
    "\n",
    "Here's a quick demo of loading the data and plotting it using GPy."
   ]
  },
  {
   "cell_type": "markdown",
   "metadata": {},
   "source": [
    "First we grab the temperature values from the sensors..."
   ]
  },
  {
   "cell_type": "code",
   "execution_count": 6,
   "metadata": {},
   "outputs": [],
   "source": [
    "#res = []\n",
    "#for deviceId in ['600194278c73','6001942787bf','6001941fcffd']:\n",
    "#    try:\n",
    "#        res.append(np.mean([float(x) for x in np.array(getdata(deviceId))[:,1]]))\n",
    "#    except KeyError:\n",
    "#        res.append(None)\n",
    "#print(res)"
   ]
  },
  {
   "cell_type": "code",
   "execution_count": 27,
   "metadata": {},
   "outputs": [],
   "source": [
    "res = [np.mean(np.array(r)[:,1].astype(np.float)) for r in pickle.load(open('chickendata.p','rb'))]"
   ]
  },
  {
   "cell_type": "markdown",
   "metadata": {},
   "source": [
    "The three sensors are about the same temperature."
   ]
  },
  {
   "cell_type": "markdown",
   "metadata": {},
   "source": [
    "...and make a note of the sensors and bulb locations:"
   ]
  },
  {
   "cell_type": "code",
   "execution_count": 28,
   "metadata": {},
   "outputs": [],
   "source": [
    "bulbs = np.array([[63,115,26],[67,188,11],[160,100,18],[247,195,25],[266,90,3],[358,147,21],[425,89,26],[470,188,18]])\n",
    "sensors = np.array([[267,137,3],[99,180,3],[317,150,3]])"
   ]
  },
  {
   "cell_type": "markdown",
   "metadata": {},
   "source": [
    "We believe the bulb distances to the sensors is important, so here we have a function that computes the sum of the inverse squares to the locations in X.\n",
    "\n",
    "> The logic here is that the power from the bulb will be inverse square, so we should add up the powers from all the bulbs."
   ]
  },
  {
   "cell_type": "code",
   "execution_count": 29,
   "metadata": {},
   "outputs": [],
   "source": [
    "def invbulbdist(X,bulbs):\n",
    "    \"\"\"Get sum of inverse distances to the bulbs from X\"\"\"\n",
    "    d = []\n",
    "    for bulb in bulbs:\n",
    "        d.append(1/(np.sum((X - bulb)**2,1)))\n",
    "    return np.sum(np.array(d),0)*10000 #into 1/m^2, just to make things easier"
   ]
  },
  {
   "cell_type": "markdown",
   "metadata": {},
   "source": [
    "Here we build the input and output training data, and optimise a GP model with a simple RBF kernel. Setting ARD to true means we think that the lengthscales for x, y and the distance to the bulbs will be different.\n",
    "\n",
    "> Note we removed z as this isn't available in the training data (all the sensors are at the same height)."
   ]
  },
  {
   "cell_type": "code",
   "execution_count": 52,
   "metadata": {},
   "outputs": [
    {
     "data": {
      "text/plain": [
       "<paramz.optimization.optimization.opt_lbfgsb at 0x7f9ac8a4e630>"
      ]
     },
     "execution_count": 52,
     "metadata": {},
     "output_type": "execute_result"
    }
   ],
   "source": [
    "d = invbulbdist(sensors,bulbs)\n",
    "X = np.c_[sensors[:,0:2],d] #removed z from X\n",
    "y = np.array(res)[:,None]\n",
    "k = GPy.kern.RBF(3,ARD=True) #x,y and bulb dist\n",
    "m = GPy.models.GPRegression(X,y,k)\n",
    "m.rbf.lengthscale[:] = 10.0\n",
    "m.Gaussian_noise=0.1\n",
    "m.rbf.variance = 10.0\n",
    "m.optimize()"
   ]
  },
  {
   "cell_type": "markdown",
   "metadata": {},
   "source": [
    "Quickly look at this model.\n",
    "\n",
    "The training data input locations. The last axis is the sum of the inverse distances squared to the bulbs (added over all the bulbs). So it roughly is proportional to bulb power on the sensor."
   ]
  },
  {
   "cell_type": "code",
   "execution_count": 53,
   "metadata": {},
   "outputs": [
    {
     "data": {
      "text/plain": [
       "array([[267.        , 137.        ,   9.85020508],\n",
       "       [ 99.        , 180.        ,  12.3254817 ],\n",
       "       [317.        , 150.        ,   9.6271681 ]])"
      ]
     },
     "execution_count": 53,
     "metadata": {},
     "output_type": "execute_result"
    }
   ],
   "source": [
    "X"
   ]
  },
  {
   "cell_type": "code",
   "execution_count": 54,
   "metadata": {},
   "outputs": [
    {
     "data": {
      "text/html": [
       "<style type=\"text/css\">\n",
       ".pd{\n",
       "    font-family: \"Courier New\", Courier, monospace !important;\n",
       "    width: 100%;\n",
       "    padding: 3px;\n",
       "}\n",
       "</style>\n",
       "\n",
       "<p class=pd>\n",
       "<b>Model</b>: GP regression<br>\n",
       "<b>Objective</b>: 4.356436020596774<br>\n",
       "<b>Number of Parameters</b>: 5<br>\n",
       "<b>Number of Optimization Parameters</b>: 5<br>\n",
       "<b>Updates</b>: True<br>\n",
       "</p>\n",
       "<style type=\"text/css\">\n",
       ".tg  {font-family:\"Courier New\", Courier, monospace !important;padding:2px 3px;word-break:normal;border-collapse:collapse;border-spacing:0;border-color:#DCDCDC;margin:0px auto;width:100%;}\n",
       ".tg td{font-family:\"Courier New\", Courier, monospace !important;font-weight:bold;color:#444;background-color:#F7FDFA;border-style:solid;border-width:1px;overflow:hidden;word-break:normal;border-color:#DCDCDC;}\n",
       ".tg th{font-family:\"Courier New\", Courier, monospace !important;font-weight:normal;color:#fff;background-color:#26ADE4;border-style:solid;border-width:1px;overflow:hidden;word-break:normal;border-color:#DCDCDC;}\n",
       ".tg .tg-left{font-family:\"Courier New\", Courier, monospace !important;font-weight:normal;text-align:left;}\n",
       ".tg .tg-center{font-family:\"Courier New\", Courier, monospace !important;font-weight:normal;text-align:center;}\n",
       ".tg .tg-right{font-family:\"Courier New\", Courier, monospace !important;font-weight:normal;text-align:right;}\n",
       "</style>\n",
       "<table class=\"tg\"><tr><th><b>  GP_regression.         </b></th><th><b>                 value</b></th><th><b>constraints</b></th><th><b>priors</b></th></tr>\n",
       "<tr><td class=tg-left>  rbf.variance           </td><td class=tg-right>     964.6513710557512</td><td class=tg-center>    +ve    </td><td class=tg-center>      </td></tr>\n",
       "<tr><td class=tg-left>  rbf.lengthscale        </td><td class=tg-right>                  (3,)</td><td class=tg-center>    +ve    </td><td class=tg-center>      </td></tr>\n",
       "<tr><td class=tg-left>  Gaussian_noise.variance</td><td class=tg-right>5.562684646268137e-309</td><td class=tg-center>    +ve    </td><td class=tg-center>      </td></tr>\n",
       "</table>"
      ],
      "text/plain": [
       "<GPy.models.gp_regression.GPRegression at 0x7f9ac8a78390>"
      ]
     },
     "execution_count": 54,
     "metadata": {},
     "output_type": "execute_result"
    }
   ],
   "source": [
    "m"
   ]
  },
  {
   "cell_type": "markdown",
   "metadata": {},
   "source": [
    "We can look at what lengthscales the model chose. Quite long - which is probably due to a lack of information - only three training points!!"
   ]
  },
  {
   "cell_type": "code",
   "execution_count": 55,
   "metadata": {},
   "outputs": [
    {
     "data": {
      "text/html": [
       "<style type=\"text/css\">\n",
       ".tg  {padding:2px 3px;word-break:normal;border-collapse:collapse;border-spacing:0;border-color:#DCDCDC;margin:0px auto;width:100%;}\n",
       ".tg td{font-family:\"Courier New\", Courier, monospace !important;font-weight:bold;color:#444;background-color:#F7FDFA;border-style:solid;border-width:1px;overflow:hidden;word-break:normal;border-color:#DCDCDC;}\n",
       ".tg th{font-family:\"Courier New\", Courier, monospace !important;font-weight:normal;color:#fff;background-color:#26ADE4;border-style:solid;border-width:1px;overflow:hidden;word-break:normal;border-color:#DCDCDC;}\n",
       ".tg .tg-left{font-family:\"Courier New\", Courier, monospace !important;font-weight:normal;text-align:left;}\n",
       ".tg .tg-right{font-family:\"Courier New\", Courier, monospace !important;font-weight:normal;text-align:right;}\n",
       "</style>\n",
       "<table class=\"tg\">\n",
       "\n",
       "<tr>\n",
       "  <th><b>index</b></th>\n",
       "  <th><b>GP_regression.rbf.lengthscale</b></th>\n",
       "  <th><b>constraints</b></th><th><b>priors</b></th>\n",
       "</tr>\n",
       "<tr><td class=tg-left>  [0]  </td><td class=tg-right>               21771.46472677</td><td class=tg-left>    +ve    </td><td class=tg-left>      </td></tr>\n",
       "<tr><td class=tg-left>  [1]  </td><td class=tg-right>                3817.80970990</td><td class=tg-left>    +ve    </td><td class=tg-left>      </td></tr>\n",
       "<tr><td class=tg-left>  [2]  </td><td class=tg-right>               15413.10173325</td><td class=tg-left>    +ve    </td><td class=tg-left>      </td></tr>"
      ],
      "text/plain": [
       "\u001b[1mGP_regression.rbf.lengthscale\u001b[0;0m:\n",
       "Param([21771.46472677,  3817.8097099 , 15413.10173325])"
      ]
     },
     "execution_count": 55,
     "metadata": {},
     "output_type": "execute_result"
    }
   ],
   "source": [
    "m.rbf.lengthscale"
   ]
  },
  {
   "cell_type": "markdown",
   "metadata": {},
   "source": [
    "We build a matrix of test points..."
   ]
  },
  {
   "cell_type": "code",
   "execution_count": 56,
   "metadata": {},
   "outputs": [],
   "source": [
    "x = np.arange(0,500,15)\n",
    "y = np.arange(80,250,15)\n",
    "z = 3\n",
    "predX = np.meshgrid(x,y)\n",
    "\n",
    "testX = np.c_[\n",
    "predX[0].reshape([np.prod(predX[0].shape),1])[:,0],\n",
    "predX[1].reshape([np.prod(predX[1].shape),1])[:,0]\n",
    "]\n",
    "\n",
    "tempa = np.c_[testX,np.ones([len(testX),1])*z]\n",
    "\n",
    "d = invbulbdist(tempa,bulbs)\n",
    "testX = np.c_[testX,d]"
   ]
  },
  {
   "cell_type": "markdown",
   "metadata": {},
   "source": [
    "Ask for predictions at those test points"
   ]
  },
  {
   "cell_type": "code",
   "execution_count": 60,
   "metadata": {},
   "outputs": [],
   "source": [
    "ypred,varpred = m.predict_noiseless(testX)"
   ]
  },
  {
   "cell_type": "code",
   "execution_count": 61,
   "metadata": {},
   "outputs": [
    {
     "name": "stdout",
     "output_type": "stream",
     "text": [
      "predictions range from 26.82 to 28.59\n"
     ]
    }
   ],
   "source": [
    "print(\"predictions range from %0.2f to %0.2f\"%(np.min(ypred),np.max(ypred)))"
   ]
  },
  {
   "cell_type": "code",
   "execution_count": 62,
   "metadata": {},
   "outputs": [
    {
     "name": "stdout",
     "output_type": "stream",
     "text": [
      "uncertainty in predictions (std), is between 0.00048,0.48075\n"
     ]
    }
   ],
   "source": [
    "print(\"uncertainty in predictions (std), is between %0.5f,%0.5f\" % (np.sqrt(np.min(varpred)),np.sqrt(np.max(varpred))))"
   ]
  },
  {
   "cell_type": "markdown",
   "metadata": {},
   "source": [
    "Here we plot the results"
   ]
  },
  {
   "cell_type": "code",
   "execution_count": 65,
   "metadata": {},
   "outputs": [
    {
     "name": "stderr",
     "output_type": "stream",
     "text": [
      " /home/mike/anaconda3/lib/python3.6/site-packages/matplotlib/collections.py:857: RuntimeWarning:invalid value encountered in sqrt\n"
     ]
    },
    {
     "data": {
      "text/plain": [
       "<matplotlib.colorbar.Colorbar at 0x7f9ac88e9be0>"
      ]
     },
     "execution_count": 65,
     "metadata": {},
     "output_type": "execute_result"
    },
    {
     "name": "stderr",
     "output_type": "stream",
     "text": [
      " /home/mike/anaconda3/lib/python3.6/site-packages/matplotlib/collections.py:857: RuntimeWarning:invalid value encountered in sqrt\n"
     ]
    },
    {
     "data": {
      "image/png": "[encoded data removed]",
      "text/plain": [
       "<Figure size 1080x360 with 2 Axes>"
      ]
     },
     "metadata": {},
     "output_type": "display_data"
    }
   ],
   "source": [
    "plt.figure(figsize=[15,5])\n",
    "conf = 0.4*(1/np.sqrt(varpred) - 30)\n",
    "\n",
    "im = plt.scatter(testX[:,0],testX[:,1],conf,c=ypred[:,0],marker='s',alpha=0.5)\n",
    "plt.axis('equal')\n",
    "#plt.clim([27.4,28.3])\n",
    "plt.plot(sensors[:,0],sensors[:,1],'xr',markersize=10,mew=2,label='sensors')\n",
    "plt.plot(bulbs[:,0],bulbs[:,1],'+',color='orange',markersize=10,mew=2,label='bulbs')\n",
    "ax = plt.gca()\n",
    "fig = plt.gcf()\n",
    "plt.legend()\n",
    "fig.colorbar(im)"
   ]
  },
  {
   "cell_type": "markdown",
   "metadata": {},
   "source": [
    "In the plot above the size of the squares indicates our confidence in the estimates. The colour the temperature at that location.\n",
    "\n",
    "A couple of observations :- the model thinks it knows something about the temperature. Only three sensors is a bit of a stretch for any prediction to use...!\n",
    "\n",
    "Note the areas around each bulb without squares. This occurs as the GP is very non-confident in those areas as we have no sensors that close to the bulbs.\n",
    "\n",
    "Ideally we'd leave one sensor out, and test the prediction driven by the other two sensors."
   ]
  },
  {
   "cell_type": "code",
   "execution_count": null,
   "metadata": {},
   "outputs": [],
   "source": []
  }
 ],
 "metadata": {
  "kernelspec": {
   "display_name": "Python 3",
   "language": "python",
   "name": "python3"
  },
  "language_info": {
   "codemirror_mode": {
    "name": "ipython",
    "version": 3
   },
   "file_extension": ".py",
   "mimetype": "text/x-python",
   "name": "python",
   "nbconvert_exporter": "python",
   "pygments_lexer": "ipython3",
   "version": "3.6.9"
  }
 },
 "nbformat": 4,
 "nbformat_minor": 2
}
